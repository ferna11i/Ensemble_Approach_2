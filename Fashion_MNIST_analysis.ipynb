{
  "nbformat": 4,
  "nbformat_minor": 0,
  "metadata": {
    "colab": {
      "name": "Fashion MNIST analysis.ipynb",
      "provenance": [],
      "collapsed_sections": []
    },
    "kernelspec": {
      "name": "python3",
      "display_name": "Python 3"
    }
  },
  "cells": [
    {
      "cell_type": "code",
      "metadata": {
        "id": "cXcXQMWwUDlA",
        "colab_type": "code",
        "outputId": "bfa622ab-58e9-4787-c96d-4812f74a3ea4",
        "colab": {
          "base_uri": "https://localhost:8080/",
          "height": 35
        }
      },
      "source": [
        "from google.colab import drive\n",
        "drive.mount('/content/drive')"
      ],
      "execution_count": 43,
      "outputs": [
        {
          "output_type": "stream",
          "text": [
            "Drive already mounted at /content/drive; to attempt to forcibly remount, call drive.mount(\"/content/drive\", force_remount=True).\n"
          ],
          "name": "stdout"
        }
      ]
    },
    {
      "cell_type": "markdown",
      "metadata": {
        "id": "nvaypxbUIKWG",
        "colab_type": "text"
      },
      "source": [
        "#Data Prerpocessing"
      ]
    },
    {
      "cell_type": "code",
      "metadata": {
        "id": "UJY6xbcqCGu1",
        "colab_type": "code",
        "colab": {}
      },
      "source": [
        "import pandas as pd\n",
        "import matplotlib.pyplot as plt\n",
        "import seaborn as sns\n",
        "import random\n",
        "from joblib import load, dump\n",
        "import numpy as np\n",
        "import time\n",
        "from collections import Counter\n",
        "\n",
        "from sklearn.preprocessing import MinMaxScaler\n",
        "from sklearn.decomposition import PCA \n",
        "from sklearn.metrics import accuracy_score, confusion_matrix\n",
        "from sklearn.feature_selection import mutual_info_classif\n",
        "from boruta import BorutaPy \n",
        "\n",
        "from sklearn.svm import SVC\n",
        "from sklearn.neighbors import KNeighborsClassifier\n",
        "from sklearn.ensemble import RandomForestClassifier, BaggingClassifier\n",
        "from sklearn.naive_bayes import GaussianNB\n",
        "from sklearn.linear_model import LogisticRegression\n",
        "\n",
        "dir = '/content/drive/My Drive/Fashion MNIST/'"
      ],
      "execution_count": 0,
      "outputs": []
    },
    {
      "cell_type": "code",
      "metadata": {
        "id": "OaNgMzGQCeBH",
        "colab_type": "code",
        "colab": {}
      },
      "source": [
        "train_df = pd.read_csv(dir + 'fashion-mnist_train.csv')\n",
        "test_df = pd.read_csv(dir + 'fashion-mnist_test.csv')\n",
        "features_list = train_df.columns.values[1:]"
      ],
      "execution_count": 0,
      "outputs": []
    },
    {
      "cell_type": "code",
      "metadata": {
        "id": "bVGmafQ-ahJC",
        "colab_type": "code",
        "outputId": "8a24b778-6262-4192-f642-1221ae05bfed",
        "colab": {
          "base_uri": "https://localhost:8080/",
          "height": 87
        }
      },
      "source": [
        "#Get 2 samples from each class\n",
        "training_class_count = Counter(train_df.iloc[:,0].values)\n",
        "test_class_count = Counter(test_df.iloc[:,0].values)\n",
        "\n",
        "print(\"Training Class count :\")\n",
        "print(training_class_count)\n",
        "print(\"Test Class count :\")\n",
        "print(test_class_count)"
      ],
      "execution_count": 46,
      "outputs": [
        {
          "output_type": "stream",
          "text": [
            "Training Class count :\n",
            "Counter({2: 6000, 9: 6000, 6: 6000, 0: 6000, 3: 6000, 4: 6000, 5: 6000, 8: 6000, 7: 6000, 1: 6000})\n",
            "Test Class count :\n",
            "Counter({0: 1000, 1: 1000, 2: 1000, 3: 1000, 8: 1000, 6: 1000, 5: 1000, 4: 1000, 7: 1000, 9: 1000})\n"
          ],
          "name": "stdout"
        }
      ]
    },
    {
      "cell_type": "markdown",
      "metadata": {
        "id": "ccBlrXkHIO9z",
        "colab_type": "text"
      },
      "source": [
        "#Boruta Implementation"
      ]
    },
    {
      "cell_type": "code",
      "metadata": {
        "id": "WN1yO7TlCPe1",
        "colab_type": "code",
        "outputId": "b0e585ba-c343-49d4-f2fe-3fc3005f5743",
        "colab": {
          "base_uri": "https://localhost:8080/",
          "height": 693
        }
      },
      "source": [
        "#Using Bourta algorithm to perform wrapper feature selection\n",
        "rf = RandomForestClassifier(n_estimators=10, criterion='entropy', n_jobs=-1, random_state=42)\n",
        "\n",
        "feature_selector = BorutaPy(rf, n_estimators='auto', random_state=42, verbose=1, max_iter=15)\n",
        "feature_selector.fit(x_train_scaled, y_train)"
      ],
      "execution_count": 0,
      "outputs": [
        {
          "output_type": "stream",
          "text": [
            "Iteration: 1 / 15\n",
            "Iteration: 2 / 15\n",
            "Iteration: 3 / 15\n",
            "Iteration: 4 / 15\n",
            "Iteration: 5 / 15\n",
            "Iteration: 6 / 15\n",
            "Iteration: 7 / 15\n",
            "Iteration: 8 / 15\n",
            "Iteration: 9 / 15\n",
            "Iteration: 10 / 15\n",
            "Iteration: 11 / 15\n",
            "Iteration: 12 / 15\n",
            "Iteration: 13 / 15\n",
            "Iteration: 14 / 15\n",
            "\n",
            "\n",
            "BorutaPy finished running.\n",
            "\n",
            "Iteration: \t15 / 15\n",
            "Confirmed: \t630\n",
            "Tentative: \t11\n",
            "Rejected: \t130\n"
          ],
          "name": "stdout"
        },
        {
          "output_type": "execute_result",
          "data": {
            "text/plain": [
              "BorutaPy(alpha=0.05,\n",
              "         estimator=RandomForestClassifier(bootstrap=True, class_weight=None,\n",
              "                                          criterion='entropy', max_depth=None,\n",
              "                                          max_features='auto',\n",
              "                                          max_leaf_nodes=None,\n",
              "                                          min_impurity_decrease=0.0,\n",
              "                                          min_impurity_split=None,\n",
              "                                          min_samples_leaf=1,\n",
              "                                          min_samples_split=2,\n",
              "                                          min_weight_fraction_leaf=0.0,\n",
              "                                          n_estimators=361, n_jobs=-1,\n",
              "                                          oob_score=False,\n",
              "                                          random_state=RandomState(MT19937) at 0x7F353E2B7360,\n",
              "                                          verbose=0, warm_start=False),\n",
              "         max_iter=15, n_estimators='auto', perc=100,\n",
              "         random_state=RandomState(MT19937) at 0x7F353E2B7360, two_step=True,\n",
              "         verbose=1)"
            ]
          },
          "metadata": {
            "tags": []
          },
          "execution_count": 20
        }
      ]
    },
    {
      "cell_type": "code",
      "metadata": {
        "id": "QM-KUd4XBtLM",
        "colab_type": "code",
        "colab": {}
      },
      "source": [
        "feature_selector =  load('/content/drive/My Drive/Fashion MNIST/feature_selector_new.joblib')"
      ],
      "execution_count": 0,
      "outputs": []
    },
    {
      "cell_type": "code",
      "metadata": {
        "id": "7YpSLzUBAADU",
        "colab_type": "code",
        "outputId": "96d34c10-74e7-48ce-809f-ac56f633ab0e",
        "colab": {
          "base_uri": "https://localhost:8080/",
          "height": 35
        }
      },
      "source": [
        "selected_features = [features_list[idx] for idx, i in enumerate(feature_selector.support_) if i == True]\n",
        "len(selected_features)"
      ],
      "execution_count": 11,
      "outputs": [
        {
          "output_type": "execute_result",
          "data": {
            "text/plain": [
              "630"
            ]
          },
          "metadata": {
            "tags": []
          },
          "execution_count": 11
        }
      ]
    },
    {
      "cell_type": "code",
      "metadata": {
        "id": "TFbD8wJuAk9K",
        "colab_type": "code",
        "colab": {}
      },
      "source": [
        "features = pd.DataFrame(columns=[\"Boruta Features\"])\n",
        "features[\"Boruta Features\"] = selected_features\n",
        "features.to_csv('/content/drive/My Drive/Fashion MNIST/boruta_features_new.csv', index=False)"
      ],
      "execution_count": 0,
      "outputs": []
    },
    {
      "cell_type": "code",
      "metadata": {
        "id": "AbkyTC7muA7d",
        "colab_type": "code",
        "colab": {}
      },
      "source": [
        "features_df = pd.read_csv('/content/drive/My Drive/Fashion MNIST/boruta_features_new.csv')\n",
        "new_train_df = train_df[[\"label\"] + list(features_df[\"Boruta Features\"])]\n",
        "new_test_df = test_df[[\"label\"] + list(features_df[\"Boruta Features\"])]"
      ],
      "execution_count": 0,
      "outputs": []
    },
    {
      "cell_type": "code",
      "metadata": {
        "id": "aRY1pDHtCjHT",
        "colab_type": "code",
        "colab": {}
      },
      "source": [
        "x_train = new_train_df.iloc[:,1:]\n",
        "y_train = new_train_df.iloc[:,0].values\n",
        "x_test = new_test_df.iloc[:,1:]\n",
        "y_test = new_test_df.iloc[:,0].values\n",
        "classes = [\"T-shirt/top\", \"Trouser\", \"Pullover\", \"Dress\", \"Coat\", \"Sandal\", \n",
        "           \"Shirt\", \"Sneaker\", \"Bag\", \"Ankle boot\"]\n",
        "\n",
        "#Z-Score normalization:\n",
        "scaler = MinMaxScaler()\n",
        "x_train_scaled = scaler.fit_transform(x_train)\n",
        "x_test_scaled = scaler.fit_transform(x_test)\n",
        "\n",
        "x_train_scaled_full = scaler.fit_transform(train_df.iloc[:,1:].values)\n",
        "x_test_scaled_full = scaler.fit_transform(test_df.iloc[:,1:].values)"
      ],
      "execution_count": 0,
      "outputs": []
    },
    {
      "cell_type": "markdown",
      "metadata": {
        "id": "vF-zdAC0IceN",
        "colab_type": "text"
      },
      "source": [
        "#Create code for the demo"
      ]
    },
    {
      "cell_type": "code",
      "metadata": {
        "id": "NaksE-I4EuWn",
        "colab_type": "code",
        "colab": {}
      },
      "source": [
        "#Create  sample for the demo\n",
        "#Code is simply used to extract 10 test samples for each class from the test set\n",
        "demo_test_df = pd.DataFrame(columns=new_test_df.columns.values)\n",
        "\n",
        "for idx, each_class in enumerate(classes):\n",
        "  #Pick the first two samples from each class\n",
        "\n",
        "  test_indices = test_df.index[test_df['label'] == idx][:10]\n",
        "  x_sample = x_test_scaled[test_indices]\n",
        "  y_sample = y_test[test_indices]\n",
        "\n",
        "  temp_df = pd.DataFrame(np.column_stack([y_sample, x_sample]),\n",
        "                         columns= demo_test_df.columns.values)\n",
        "  demo_test_df = pd.concat([demo_test_df, temp_df], axis=0)\n"
      ],
      "execution_count": 0,
      "outputs": []
    },
    {
      "cell_type": "code",
      "metadata": {
        "id": "B6Cm68j7ZWnx",
        "colab_type": "code",
        "outputId": "33dc3506-ec0b-4e25-94bb-9cfa94b6a29e",
        "colab": {
          "base_uri": "https://localhost:8080/",
          "height": 1000
        }
      },
      "source": [
        "#Displaying the differences in samples of a class\n",
        "\n",
        "for idx, each_class in enumerate(classes):\n",
        "  #Pick the first two samples from each class\n",
        "  temp_train_df = train_df.loc[train_df['label'] == idx][:2]\n",
        "\n",
        "  figure,ax = plt.subplots(1, 2)\n",
        "  \n",
        "  sample_1 = temp_train_df.iloc[0]\n",
        "  image_1 = np.array(sample_1[1:]).reshape((28,28))\n",
        "  ax[0].set_title(classes[idx])\n",
        "  ax[0].imshow(image_1, cmap=\"gray\")\n",
        "  \n",
        "\n",
        "  sample_2 = temp_train_df.iloc[1]\n",
        "  image_2 = np.array(sample_2[1:]).reshape((28,28))\n",
        "  ax[1].set_title(classes[idx])\n",
        "  ax[1].imshow(image_2, cmap=\"gray\")\n"
      ],
      "execution_count": 16,
      "outputs": [
        {
          "output_type": "display_data",
          "data": {
            "image/png": "[encoded data removed]",
            "text/plain": [
              "<Figure size 432x288 with 2 Axes>"
            ]
          },
          "metadata": {
            "tags": []
          }
        },
        {
          "output_type": "display_data",
          "data": {
            "image/png": "[encoded data removed]",
            "text/plain": [
              "<Figure size 432x288 with 2 Axes>"
            ]
          },
          "metadata": {
            "tags": []
          }
        },
        {
          "output_type": "display_data",
          "data": {
            "image/png": "[encoded data removed]",
            "text/plain": [
              "<Figure size 432x288 with 2 Axes>"
            ]
          },
          "metadata": {
            "tags": []
          }
        },
        {
          "output_type": "display_data",
          "data": {
            "image/png": "[encoded data removed]",
            "text/plain": [
              "<Figure size 432x288 with 2 Axes>"
            ]
          },
          "metadata": {
            "tags": []
          }
        },
        {
          "output_type": "display_data",
          "data": {
            "image/png": "[encoded data removed]",
            "text/plain": [
              "<Figure size 432x288 with 2 Axes>"
            ]
          },
          "metadata": {
            "tags": []
          }
        },
        {
          "output_type": "display_data",
          "data": {
            "image/png": "[encoded data removed]",
            "text/plain": [
              "<Figure size 432x288 with 2 Axes>"
            ]
          },
          "metadata": {
            "tags": []
          }
        },
        {
          "output_type": "display_data",
          "data": {
            "image/png": "[encoded data removed]",
            "text/plain": [
              "<Figure size 432x288 with 2 Axes>"
            ]
          },
          "metadata": {
            "tags": []
          }
        },
        {
          "output_type": "display_data",
          "data": {
            "image/png": "[encoded data removed]",
            "text/plain": [
              "<Figure size 432x288 with 2 Axes>"
            ]
          },
          "metadata": {
            "tags": []
          }
        },
        {
          "output_type": "display_data",
          "data": {
            "image/png": "[encoded data removed]",
            "text/plain": [
              "<Figure size 432x288 with 2 Axes>"
            ]
          },
          "metadata": {
            "tags": []
          }
        },
        {
          "output_type": "display_data",
          "data": {
            "image/png": "[encoded data removed]",
            "text/plain": [
              "<Figure size 432x288 with 2 Axes>"
            ]
          },
          "metadata": {
            "tags": []
          }
        }
      ]
    },
    {
      "cell_type": "markdown",
      "metadata": {
        "id": "H-rJ4rK0IktD",
        "colab_type": "text"
      },
      "source": [
        "#Correlation matrix evaluation"
      ]
    },
    {
      "cell_type": "code",
      "metadata": {
        "id": "yWKCyF2GuZM-",
        "colab_type": "code",
        "colab": {}
      },
      "source": [
        "#Get all features that are positively correlated with the target feature\n",
        "correlation_df = new_train_df.corr()\n",
        "\n",
        "target = correlation_df['label']\n",
        "most_cor_features = target[target > 0.0]"
      ],
      "execution_count": 0,
      "outputs": []
    },
    {
      "cell_type": "code",
      "metadata": {
        "id": "3m2n2xKl56wc",
        "colab_type": "code",
        "outputId": "f5090845-9bf0-4402-e235-ce4cef415c50",
        "colab": {
          "base_uri": "https://localhost:8080/",
          "height": 1000
        }
      },
      "source": [
        "#Printing the list of positively correlated features.\n",
        "#Using this set of features did not improve accuracy and hence this\n",
        "#method of feature selection was not used further on \n",
        "list(most_cor_features.keys())"
      ],
      "execution_count": 42,
      "outputs": [
        {
          "output_type": "execute_result",
          "data": {
            "text/plain": [
              "['label',\n",
              " 'pixel137',\n",
              " 'pixel164',\n",
              " 'pixel165',\n",
              " 'pixel166',\n",
              " 'pixel192',\n",
              " 'pixel193',\n",
              " 'pixel194',\n",
              " 'pixel195',\n",
              " 'pixel218',\n",
              " 'pixel219',\n",
              " 'pixel220',\n",
              " 'pixel221',\n",
              " 'pixel222',\n",
              " 'pixel223',\n",
              " 'pixel245',\n",
              " 'pixel246',\n",
              " 'pixel247',\n",
              " 'pixel248',\n",
              " 'pixel249',\n",
              " 'pixel250',\n",
              " 'pixel251',\n",
              " 'pixel272',\n",
              " 'pixel273',\n",
              " 'pixel274',\n",
              " 'pixel275',\n",
              " 'pixel276',\n",
              " 'pixel277',\n",
              " 'pixel278',\n",
              " 'pixel279',\n",
              " 'pixel284',\n",
              " 'pixel299',\n",
              " 'pixel300',\n",
              " 'pixel301',\n",
              " 'pixel302',\n",
              " 'pixel303',\n",
              " 'pixel304',\n",
              " 'pixel305',\n",
              " 'pixel306',\n",
              " 'pixel307',\n",
              " 'pixel312',\n",
              " 'pixel313',\n",
              " 'pixel323',\n",
              " 'pixel326',\n",
              " 'pixel327',\n",
              " 'pixel328',\n",
              " 'pixel329',\n",
              " 'pixel330',\n",
              " 'pixel331',\n",
              " 'pixel332',\n",
              " 'pixel333',\n",
              " 'pixel334',\n",
              " 'pixel335',\n",
              " 'pixel340',\n",
              " 'pixel341',\n",
              " 'pixel342',\n",
              " 'pixel351',\n",
              " 'pixel354',\n",
              " 'pixel355',\n",
              " 'pixel356',\n",
              " 'pixel357',\n",
              " 'pixel358',\n",
              " 'pixel359',\n",
              " 'pixel360',\n",
              " 'pixel361',\n",
              " 'pixel362',\n",
              " 'pixel363',\n",
              " 'pixel366',\n",
              " 'pixel369',\n",
              " 'pixel370',\n",
              " 'pixel371',\n",
              " 'pixel372',\n",
              " 'pixel378',\n",
              " 'pixel379',\n",
              " 'pixel380',\n",
              " 'pixel381',\n",
              " 'pixel382',\n",
              " 'pixel383',\n",
              " 'pixel384',\n",
              " 'pixel385',\n",
              " 'pixel386',\n",
              " 'pixel387',\n",
              " 'pixel388',\n",
              " 'pixel389',\n",
              " 'pixel390',\n",
              " 'pixel391',\n",
              " 'pixel394',\n",
              " 'pixel395',\n",
              " 'pixel396',\n",
              " 'pixel397',\n",
              " 'pixel398',\n",
              " 'pixel399',\n",
              " 'pixel400',\n",
              " 'pixel406',\n",
              " 'pixel407',\n",
              " 'pixel408',\n",
              " 'pixel409',\n",
              " 'pixel410',\n",
              " 'pixel411',\n",
              " 'pixel412',\n",
              " 'pixel413',\n",
              " 'pixel414',\n",
              " 'pixel415',\n",
              " 'pixel416',\n",
              " 'pixel417',\n",
              " 'pixel418',\n",
              " 'pixel419',\n",
              " 'pixel422',\n",
              " 'pixel423',\n",
              " 'pixel424',\n",
              " 'pixel425',\n",
              " 'pixel426',\n",
              " 'pixel427',\n",
              " 'pixel428',\n",
              " 'pixel429',\n",
              " 'pixel434',\n",
              " 'pixel435',\n",
              " 'pixel436',\n",
              " 'pixel437',\n",
              " 'pixel438',\n",
              " 'pixel439',\n",
              " 'pixel440',\n",
              " 'pixel441',\n",
              " 'pixel442',\n",
              " 'pixel443',\n",
              " 'pixel444',\n",
              " 'pixel445',\n",
              " 'pixel446',\n",
              " 'pixel447',\n",
              " 'pixel450',\n",
              " 'pixel451',\n",
              " 'pixel452',\n",
              " 'pixel453',\n",
              " 'pixel454',\n",
              " 'pixel455',\n",
              " 'pixel456',\n",
              " 'pixel457',\n",
              " 'pixel462',\n",
              " 'pixel463',\n",
              " 'pixel464',\n",
              " 'pixel465',\n",
              " 'pixel466',\n",
              " 'pixel467',\n",
              " 'pixel468',\n",
              " 'pixel469',\n",
              " 'pixel470',\n",
              " 'pixel471',\n",
              " 'pixel472',\n",
              " 'pixel473',\n",
              " 'pixel474',\n",
              " 'pixel475',\n",
              " 'pixel478',\n",
              " 'pixel479',\n",
              " 'pixel480',\n",
              " 'pixel481',\n",
              " 'pixel482',\n",
              " 'pixel483',\n",
              " 'pixel484',\n",
              " 'pixel485',\n",
              " 'pixel486',\n",
              " 'pixel490',\n",
              " 'pixel491',\n",
              " 'pixel492',\n",
              " 'pixel494',\n",
              " 'pixel495',\n",
              " 'pixel496',\n",
              " 'pixel497',\n",
              " 'pixel498',\n",
              " 'pixel499',\n",
              " 'pixel500',\n",
              " 'pixel501',\n",
              " 'pixel502',\n",
              " 'pixel503',\n",
              " 'pixel506',\n",
              " 'pixel507',\n",
              " 'pixel508',\n",
              " 'pixel509',\n",
              " 'pixel510',\n",
              " 'pixel511',\n",
              " 'pixel512',\n",
              " 'pixel513',\n",
              " 'pixel514',\n",
              " 'pixel518',\n",
              " 'pixel519',\n",
              " 'pixel520',\n",
              " 'pixel523',\n",
              " 'pixel524',\n",
              " 'pixel525',\n",
              " 'pixel526',\n",
              " 'pixel527',\n",
              " 'pixel528',\n",
              " 'pixel529',\n",
              " 'pixel530',\n",
              " 'pixel531',\n",
              " 'pixel535',\n",
              " 'pixel536',\n",
              " 'pixel537',\n",
              " 'pixel538',\n",
              " 'pixel539',\n",
              " 'pixel540',\n",
              " 'pixel541',\n",
              " 'pixel542',\n",
              " 'pixel546',\n",
              " 'pixel547',\n",
              " 'pixel548',\n",
              " 'pixel551',\n",
              " 'pixel552',\n",
              " 'pixel553',\n",
              " 'pixel554',\n",
              " 'pixel555',\n",
              " 'pixel556',\n",
              " 'pixel557',\n",
              " 'pixel558',\n",
              " 'pixel559',\n",
              " 'pixel564',\n",
              " 'pixel565',\n",
              " 'pixel566',\n",
              " 'pixel567',\n",
              " 'pixel568',\n",
              " 'pixel569',\n",
              " 'pixel570',\n",
              " 'pixel574',\n",
              " 'pixel575',\n",
              " 'pixel580',\n",
              " 'pixel581',\n",
              " 'pixel582',\n",
              " 'pixel583',\n",
              " 'pixel584',\n",
              " 'pixel585',\n",
              " 'pixel586',\n",
              " 'pixel587',\n",
              " 'pixel592',\n",
              " 'pixel593',\n",
              " 'pixel594',\n",
              " 'pixel595',\n",
              " 'pixel596',\n",
              " 'pixel597',\n",
              " 'pixel598',\n",
              " 'pixel603',\n",
              " 'pixel609',\n",
              " 'pixel610',\n",
              " 'pixel611',\n",
              " 'pixel612',\n",
              " 'pixel613',\n",
              " 'pixel614',\n",
              " 'pixel620',\n",
              " 'pixel621',\n",
              " 'pixel622',\n",
              " 'pixel623',\n",
              " 'pixel624',\n",
              " 'pixel625',\n",
              " 'pixel637',\n",
              " 'pixel638',\n",
              " 'pixel639',\n",
              " 'pixel640',\n",
              " 'pixel641',\n",
              " 'pixel642',\n",
              " 'pixel648',\n",
              " 'pixel649',\n",
              " 'pixel650',\n",
              " 'pixel651',\n",
              " 'pixel652',\n",
              " 'pixel666',\n",
              " 'pixel667',\n",
              " 'pixel668',\n",
              " 'pixel669',\n",
              " 'pixel670',\n",
              " 'pixel676',\n",
              " 'pixel677',\n",
              " 'pixel678',\n",
              " 'pixel679',\n",
              " 'pixel680',\n",
              " 'pixel694',\n",
              " 'pixel695',\n",
              " 'pixel696',\n",
              " 'pixel697',\n",
              " 'pixel705',\n",
              " 'pixel706',\n",
              " 'pixel707',\n",
              " 'pixel723',\n",
              " 'pixel724',\n",
              " 'pixel725',\n",
              " 'pixel733',\n",
              " 'pixel753']"
            ]
          },
          "metadata": {
            "tags": []
          },
          "execution_count": 42
        }
      ]
    },
    {
      "cell_type": "markdown",
      "metadata": {
        "id": "9ssfk22xIsPZ",
        "colab_type": "text"
      },
      "source": [
        "#Principal Component Anaysis"
      ]
    },
    {
      "cell_type": "code",
      "metadata": {
        "id": "VzRcUGN2CyMy",
        "colab_type": "code",
        "colab": {}
      },
      "source": [
        "#PCA experiments\n",
        "x_train_pca = PCA(random_state=42).fit(x_train_scaled_full)\n",
        "x_test_pca = PCA(random_state=42).fit(x_test_scaled_full)"
      ],
      "execution_count": 0,
      "outputs": []
    },
    {
      "cell_type": "code",
      "metadata": {
        "id": "sIFDY9n30CJe",
        "colab_type": "code",
        "outputId": "8d348780-fdcf-4f16-a83f-b7b781ebf1c7",
        "colab": {
          "base_uri": "https://localhost:8080/",
          "height": 295
        }
      },
      "source": [
        "#PCA analysis\n",
        "#Despite trying different levels of variance I could not reduce the number\n",
        "#of features to an amount that would help improve the prediction accuracy score\n",
        "\n",
        "figure,ax = plt.subplots(1, 2, figsize=(10,4))\n",
        "\n",
        "cumulative_variances_train = np.cumsum(x_train_pca.explained_variance_ratio_)\n",
        "ax[0].plot(cumulative_variances_train)\n",
        "variance_adding_features_train = x_train_pca.explained_variance_ratio_\n",
        "ax[0].plot(variance_adding_features_train)\n",
        "ax[0].set_ylabel('Variance %')\n",
        "ax[0].set_xlabel('Number of components')\n",
        "ax[0].set_title(\"Train data\")\n",
        "\n",
        "cumulative_variances_test = np.cumsum(x_test_pca.explained_variance_ratio_)\n",
        "ax[1].plot(cumulative_variances_test)\n",
        "variance_adding_features_test = x_test_pca.explained_variance_ratio_\n",
        "ax[1].plot(variance_adding_features_test)\n",
        "ax[1].set_ylabel('Variance %')\n",
        "ax[1].set_xlabel('Number of components')\n",
        "ax[1].set_title(\"Test data\")\n",
        "\n",
        "plt.show()"
      ],
      "execution_count": 54,
      "outputs": [
        {
          "output_type": "display_data",
          "data": {
            "image/png": "[encoded data removed]",
            "text/plain": [
              "<Figure size 720x288 with 2 Axes>"
            ]
          },
          "metadata": {
            "tags": []
          }
        }
      ]
    },
    {
      "cell_type": "markdown",
      "metadata": {
        "id": "EH480-HoN9SK",
        "colab_type": "text"
      },
      "source": [
        "#Mutual Information for feaure selection"
      ]
    },
    {
      "cell_type": "code",
      "metadata": {
        "id": "SVGzDkulO6E2",
        "colab_type": "code",
        "colab": {}
      },
      "source": [
        "#MI did not provide good results in terms of filtering features \n",
        "#The maximum features it could reduce was 1 to 3.\n",
        "mi = mutual_info_classif(x_train_scaled_full, y_train, n_neighbors=3, random_state=42)"
      ],
      "execution_count": 0,
      "outputs": []
    },
    {
      "cell_type": "code",
      "metadata": {
        "id": "-rXlGacyTxdn",
        "colab_type": "code",
        "outputId": "f0c05640-b308-43c6-f91a-ba0dcf585f6d",
        "colab": {
          "base_uri": "https://localhost:8080/",
          "height": 35
        }
      },
      "source": [
        "selected_features = [features_list[idx] for idx, i in enumerate(mi) if i > 0.000]\n",
        "len(selected_features)"
      ],
      "execution_count": 0,
      "outputs": [
        {
          "output_type": "execute_result",
          "data": {
            "text/plain": [
              "783"
            ]
          },
          "metadata": {
            "tags": []
          },
          "execution_count": 25
        }
      ]
    }
  ]
}